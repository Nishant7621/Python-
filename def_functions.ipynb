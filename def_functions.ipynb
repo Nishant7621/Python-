{
 "cells": [
  {
   "cell_type": "markdown",
   "id": "fd98d0e0-c833-4952-b241-cad4e96b8478",
   "metadata": {},
   "source": [
    "# FUNCTION"
   ]
  },
  {
   "cell_type": "code",
   "execution_count": 4,
   "id": "643b1291-5bf0-460b-8f76-37248ae57ee6",
   "metadata": {},
   "outputs": [],
   "source": [
    "def greetings():\n",
    "    print(\"hello\")\n"
   ]
  },
  {
   "cell_type": "code",
   "execution_count": 5,
   "id": "c82f6423-8d21-4cbe-ae93-b87e052138b2",
   "metadata": {},
   "outputs": [
    {
     "name": "stdout",
     "output_type": "stream",
     "text": [
      "hello\n"
     ]
    }
   ],
   "source": [
    "greetings()"
   ]
  },
  {
   "cell_type": "code",
   "execution_count": 6,
   "id": "e9826447-307c-458c-95d8-a30334af78bc",
   "metadata": {},
   "outputs": [],
   "source": [
    "def add2numbers(a,b):\n",
    "    result=a+b\n",
    "    print(\"the sum is:\",result)\n"
   ]
  },
  {
   "cell_type": "code",
   "execution_count": 7,
   "id": "33001802-e271-42ea-a82e-0b0500c28bc4",
   "metadata": {},
   "outputs": [
    {
     "name": "stdout",
     "output_type": "stream",
     "text": [
      "the sum is: 5\n"
     ]
    }
   ],
   "source": [
    "add2numbers(2,3)"
   ]
  },
  {
   "cell_type": "code",
   "execution_count": 8,
   "id": "10d43c6b-e6eb-45f4-bb4e-b1c59aea0da2",
   "metadata": {},
   "outputs": [],
   "source": [
    "def add2num(a,b):\n",
    "    return a+b \n",
    "  "
   ]
  },
  {
   "cell_type": "code",
   "execution_count": 9,
   "id": "a72c3327-e650-456c-96f7-f988b862b162",
   "metadata": {},
   "outputs": [
    {
     "data": {
      "text/plain": [
       "5"
      ]
     },
     "execution_count": 9,
     "metadata": {},
     "output_type": "execute_result"
    }
   ],
   "source": [
    "add2num(2,3)"
   ]
  },
  {
   "cell_type": "code",
   "execution_count": 10,
   "id": "6bfc7dd4-1eca-4021-a2e5-ceebd21ccecc",
   "metadata": {},
   "outputs": [
    {
     "data": {
      "text/plain": [
       "7"
      ]
     },
     "execution_count": 10,
     "metadata": {},
     "output_type": "execute_result"
    }
   ],
   "source": [
    "add2num(3,4)"
   ]
  },
  {
   "cell_type": "code",
   "execution_count": 14,
   "id": "6bd11b59-123c-484e-85ad-a8fcdbf552a3",
   "metadata": {},
   "outputs": [],
   "source": [
    "def pos(n):\n",
    "    ## Write the code\n",
    "    for i in range(n-1,0,-1):\n",
    "        print(i,end=\" \")\n"
   ]
  },
  {
   "cell_type": "code",
   "execution_count": 18,
   "id": "150a456f-268a-4468-9223-cf836af3bbad",
   "metadata": {},
   "outputs": [
    {
     "name": "stdout",
     "output_type": "stream",
     "text": [
      "4 3 2 1 "
     ]
    }
   ],
   "source": [
    "pos(5)"
   ]
  },
  {
   "cell_type": "code",
   "execution_count": null,
   "id": "8c6c4776-7519-42b9-963c-1d381d55e96e",
   "metadata": {},
   "outputs": [],
   "source": []
  }
 ],
 "metadata": {
  "kernelspec": {
   "display_name": "Python 3 (ipykernel)",
   "language": "python",
   "name": "python3"
  },
  "language_info": {
   "codemirror_mode": {
    "name": "ipython",
    "version": 3
   },
   "file_extension": ".py",
   "mimetype": "text/x-python",
   "name": "python",
   "nbconvert_exporter": "python",
   "pygments_lexer": "ipython3",
   "version": "3.13.3"
  }
 },
 "nbformat": 4,
 "nbformat_minor": 5
}
