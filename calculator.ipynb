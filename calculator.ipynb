{
  "nbformat": 4,
  "nbformat_minor": 0,
  "metadata": {
    "colab": {
      "provenance": [],
      "authorship_tag": "ABX9TyN1Ev79XEClqfvwYC7kAIqt",
      "include_colab_link": true
    },
    "kernelspec": {
      "name": "python3",
      "display_name": "Python 3"
    },
    "language_info": {
      "name": "python"
    }
  },
  "cells": [
    {
      "cell_type": "markdown",
      "metadata": {
        "id": "view-in-github",
        "colab_type": "text"
      },
      "source": [
        "<a href=\"https://colab.research.google.com/github/Nishant7621/nishant.python/blob/main/calculator.ipynb\" target=\"_parent\"><img src=\"https://colab.research.google.com/assets/colab-badge.svg\" alt=\"Open In Colab\"/></a>"
      ]
    },
    {
      "cell_type": "code",
      "execution_count": 1,
      "metadata": {
        "colab": {
          "base_uri": "https://localhost:8080/"
        },
        "id": "pLcEfLm43_jh",
        "outputId": "52b73aa4-b71b-49d8-8b42-4ce07f9ea59d"
      },
      "outputs": [
        {
          "output_type": "stream",
          "name": "stdout",
          "text": [
            "Select Operations\n",
            "1. Addition\n",
            "2. Subtraction\n",
            "3. Multiplication\n",
            "4. Division\n",
            "\n",
            "Enter choice of operation 1/2/3/4: 4\n",
            "Enter the First Number: 9\n",
            "Enter the Second Number: 3\n",
            "9.0 / 3.0 = 3.0\n"
          ]
        }
      ],
      "source": [
        "#Calculator Program in python by defining operations\n",
        "\n",
        "# Define Operators or Functions: Addition, Subtraction, Multiplication, and Division\n",
        "\n",
        "# Addition\n",
        "\n",
        "def addition(n1, n2):\n",
        "    return n1 + n2\n",
        "\n",
        "# Subtraction\n",
        "\n",
        "def subtraction(n1, n2):\n",
        "    return n1 - n2\n",
        "\n",
        "# Multiplication\n",
        "\n",
        "def multiplication(n1, n2):\n",
        "    return n1 * n2\n",
        "\n",
        "# Division\n",
        "\n",
        "def division(n1, n2):\n",
        "    return n1 / n2\n",
        "\n",
        "\n",
        "print(\"Select Operations\")\n",
        "print(\n",
        "    \"1. Addition\\n\"\n",
        "    \"2. Subtraction\\n\"\n",
        "    \"3. Multiplication\\n\"\n",
        "    \"4. Division\\n\")\n",
        "\n",
        "# Giving the option to the user to choose the operation\n",
        "\n",
        "operation = int(input(\"Enter choice of operation 1/2/3/4: \"))\n",
        "\n",
        "\n",
        "#Taking Input from the Users\n",
        "\n",
        "n1 = float(input(\"Enter the First Number: \"))\n",
        "n2 = float(input(\"Enter the Second Number: \"))\n",
        "\n",
        "\n",
        "# Apply Conditional Statements: To make operation as-per-user choices\n",
        "\n",
        "if operation == 1:\n",
        "    print (n1, \"+\", n2, \"=\", addition(n1, n2))\n",
        "\n",
        "elif operation == 2:\n",
        "    print (n1, \"-\", n2, \"=\", subtraction(n1, n2))\n",
        "\n",
        "elif operation == 3:\n",
        "    print (n1, \"*\", n2, \"=\", multiplication(n1, n2))\n",
        "\n",
        "elif operation == 4:\n",
        "    print (n1, \"/\", n2, \"=\", division(n1, n2))\n",
        "\n",
        "else:\n",
        "    print(\"Invalid Input\")"
      ]
    }
  ]
}