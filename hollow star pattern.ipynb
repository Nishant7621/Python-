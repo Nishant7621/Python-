{
 "cells": [
  {
   "cell_type": "code",
   "execution_count": 13,
   "id": "7480f8b1-0c12-496b-b5be-e3926bb43c26",
   "metadata": {},
   "outputs": [
    {
     "name": "stdout",
     "output_type": "stream",
     "text": [
      "* * * * * \n",
      "*     * \n",
      "*   * \n",
      "* * \n",
      "* \n"
     ]
    }
   ],
   "source": [
    "n = 5\n",
    "for i in range(n):                           # Outer loop (rows)\n",
    "    for j in range(i,n):\n",
    "      if(i==0 or j==i or j==n-1):\n",
    "          print(\"*\",end=\" \")\n",
    "      else:\n",
    "          print(\" \",end=\" \")\n",
    "    print()"
   ]
  },
  {
   "cell_type": "code",
   "execution_count": 14,
   "id": "f1ec8fcc-037f-47dc-bf39-ff9f7682b8f6",
   "metadata": {},
   "outputs": [
    {
     "name": "stdout",
     "output_type": "stream",
     "text": [
      "*         \n",
      "* *       \n",
      "*   *     \n",
      "*     *   \n",
      "* * * * * \n"
     ]
    }
   ],
   "source": [
    "n=5\n",
    "for i in range(n):\n",
    "  for j in range(n):\n",
    "    if(j==0 or j==i or i==n-1):\n",
    "      print(\"*\",end=\" \")\n",
    "    else:\n",
    "      print(\" \",end=\" \")\n",
    "  print()"
   ]
  },
  {
   "cell_type": "code",
   "execution_count": null,
   "id": "1c040fd0-092c-47cb-8b22-d8215681e615",
   "metadata": {},
   "outputs": [],
   "source": [
    "n=5\n",
    "for i in range(n):\n",
    "  for j in range(n):\n",
    "    if(j==0 or j==i or i==n-1):\n",
    "      print(\"*\",end=\" \")\n",
    "    else:\n",
    "      print(\" \",end=\" \")\n",
    "  print()"
   ]
  }
 ],
 "metadata": {
  "kernelspec": {
   "display_name": "Python 3 (ipykernel)",
   "language": "python",
   "name": "python3"
  },
  "language_info": {
   "codemirror_mode": {
    "name": "ipython",
    "version": 3
   },
   "file_extension": ".py",
   "mimetype": "text/x-python",
   "name": "python",
   "nbconvert_exporter": "python",
   "pygments_lexer": "ipython3",
   "version": "3.13.3"
  }
 },
 "nbformat": 4,
 "nbformat_minor": 5
}
