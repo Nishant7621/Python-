{
 "cells": [
  {
   "cell_type": "code",
   "execution_count": null,
   "id": "48ca3bbd-06b7-41d8-81c7-f37426c864c7",
   "metadata": {},
   "outputs": [],
   "source": [
    "str = \"NISHANT\"\n",
    "for char in str :\n",
    "   if(char=='T'):\n",
    "       print(\"T found\")\n",
    "       break\n",
    "       print(char)\n",
    "       print(\"END\")"
   ]
  },
  {
   "cell_type": "code",
   "execution_count": null,
   "id": "01612aff-98d4-4269-8756-c7a2434bd5a5",
   "metadata": {},
   "outputs": [],
   "source": [
    "a=int(input(\"enter any number\"))\n",
    "b=int(input(\"enter any number\"))\n",
    "print(a>=b)                           #relatinoal operator hamesha default value boolean me dega\n"
   ]
  },
  {
   "cell_type": "code",
   "execution_count": null,
   "id": "5235fa23-b2b9-4c3f-8323-bc49fe3cee46",
   "metadata": {},
   "outputs": [],
   "source": [
    "str =\"i am studing\"\n",
    "print(str.endswith(\"ing\"))"
   ]
  },
  {
   "cell_type": "markdown",
   "id": "cb81737a-1020-4f1b-bc70-7537d83b8849",
   "metadata": {},
   "source": [
    "# length of string"
   ]
  },
  {
   "cell_type": "code",
   "execution_count": 1,
   "id": "68b0b858-e8b8-441b-936d-17fb7f7d1879",
   "metadata": {},
   "outputs": [
    {
     "name": "stdout",
     "output_type": "stream",
     "text": [
      "2\n"
     ]
    }
   ],
   "source": [
    "str1=\"Nj\"\n",
    "len1=len(str1)\n",
    "print(len1)                              #length of string"
   ]
  },
  {
   "cell_type": "code",
   "execution_count": 2,
   "id": "0e091c13-356e-4934-a96a-0ace63876063",
   "metadata": {},
   "outputs": [
    {
     "name": "stdout",
     "output_type": "stream",
     "text": [
      "2\n"
     ]
    }
   ],
   "source": [
    "a=\"nj\"\n",
    "print(len(a))"
   ]
  },
  {
   "cell_type": "markdown",
   "id": "b34816e1-f958-423c-b645-3ba34dea6097",
   "metadata": {},
   "source": [
    "# indexing"
   ]
  },
  {
   "cell_type": "code",
   "execution_count": 3,
   "id": "8d0c419d-1eee-49dd-ada3-8d57d83b7965",
   "metadata": {},
   "outputs": [
    {
     "name": "stdout",
     "output_type": "stream",
     "text": [
      "N\n"
     ]
    }
   ],
   "source": [
    "str =\"NISHANT\"\n",
    "ch = str[0]\n",
    "print(ch)"
   ]
  },
  {
   "cell_type": "code",
   "execution_count": 4,
   "id": "f805e76b-4dfa-4f2d-958e-665c1ddb2076",
   "metadata": {},
   "outputs": [
    {
     "name": "stdout",
     "output_type": "stream",
     "text": [
      "A\n"
     ]
    }
   ],
   "source": [
    "str =\"NISHANT\"\n",
    "ch = str[4]\n",
    "print(ch)"
   ]
  },
  {
   "cell_type": "markdown",
   "id": "dee8bb7b-27d6-4943-97b3-9190fe36ef53",
   "metadata": {},
   "source": [
    "# slicing"
   ]
  },
  {
   "cell_type": "code",
   "execution_count": 5,
   "id": "ee886a40-087e-4dd5-9815-e93e6de99de2",
   "metadata": {},
   "outputs": [
    {
     "name": "stdout",
     "output_type": "stream",
     "text": [
      "NISH\n"
     ]
    }
   ],
   "source": [
    "str =\"NISHANT\"\n",
    "print(str[0:4])"
   ]
  },
  {
   "cell_type": "code",
   "execution_count": 6,
   "id": "0db0b3da-339c-455d-8b79-1b4635c900de",
   "metadata": {},
   "outputs": [
    {
     "data": {
      "text/plain": [
       "2"
      ]
     },
     "execution_count": 6,
     "metadata": {},
     "output_type": "execute_result"
    }
   ],
   "source": [
    "str.count(\"N\")"
   ]
  },
  {
   "cell_type": "markdown",
   "id": "dbc148a0-c919-4ab6-9a4d-6466fc310118",
   "metadata": {},
   "source": [
    "# if else elif"
   ]
  },
  {
   "cell_type": "code",
   "execution_count": null,
   "id": "b923f9ec-116d-42b9-a963-b7fa43344210",
   "metadata": {},
   "outputs": [],
   "source": [
    "marks = int(input(\"enter marks:\"))\n",
    "if(marks>=90):\n",
    "    print(\"A\")\n",
    "else\n",
    "    print(\"c\")"
   ]
  },
  {
   "cell_type": "code",
   "execution_count": null,
   "id": "a0002257-8b55-4768-9b9a-ef3a9182a14c",
   "metadata": {},
   "outputs": [],
   "source": [
    "marks = int(input(\"enter marks:\"))\n",
    "if(marks>=90 and marks<=100):\n",
    "    print(\"A\")\n",
    "elif(marks>=70 and marks<=89):\n",
    "    print(\"B\")\n",
    "elif(marks>=50 and marks<=69):\n",
    "    print(\"C\")\n",
    "elif(marks>=33 and marks<=49):\n",
    "    print(\"D\")\n",
    "else:\n",
    "    print(\"fail\")"
   ]
  },
  {
   "cell_type": "markdown",
   "id": "d05a43ea-5b3b-4dad-aa07-126e5874a3b3",
   "metadata": {},
   "source": [
    "# append"
   ]
  },
  {
   "cell_type": "code",
   "execution_count": null,
   "id": "f55608b0-021f-4e61-8147-c74c75a62b55",
   "metadata": {},
   "outputs": [],
   "source": [
    "list = [1,2,3]\n",
    "list.append(4)\n",
    "print(list)"
   ]
  },
  {
   "cell_type": "markdown",
   "id": "f1b56f72-3f26-45f2-85f6-16792bb48473",
   "metadata": {},
   "source": [
    "# extend"
   ]
  },
  {
   "cell_type": "code",
   "execution_count": 8,
   "id": "881ff45f-104e-4d97-bff7-25f2d3391a3c",
   "metadata": {},
   "outputs": [
    {
     "name": "stdout",
     "output_type": "stream",
     "text": [
      "[1, 2, 3, 4, 5, 6]\n"
     ]
    }
   ],
   "source": [
    "list = [1,2,3]\n",
    "list.extend([4,5,6])\n",
    "print(list)"
   ]
  },
  {
   "cell_type": "markdown",
   "id": "a2c3af0e-2f71-4152-9295-ff4d2f72b7d6",
   "metadata": {},
   "source": [
    "# sorting"
   ]
  },
  {
   "cell_type": "code",
   "execution_count": null,
   "id": "6183217c-15d7-4ff4-a74e-2a3172f99ce0",
   "metadata": {},
   "outputs": [],
   "source": [
    "list = [2,1,3,4]\n",
    "print(list.sort())\n",
    "print(list)"
   ]
  },
  {
   "cell_type": "code",
   "execution_count": null,
   "id": "50d95c66-eee8-4267-aa4a-38dc4a1b832c",
   "metadata": {},
   "outputs": [],
   "source": [
    "list = [1,2,3,4,5]\n",
    "print(list.sort(reverse=True))\n",
    "print(list)"
   ]
  },
  {
   "cell_type": "code",
   "execution_count": null,
   "id": "89517f9a-75ab-48d0-bec2-6ff2d05a09ec",
   "metadata": {},
   "outputs": [],
   "source": [
    "list.pop(2)\n",
    "print(list)"
   ]
  },
  {
   "cell_type": "markdown",
   "id": "bf2ecd8d-fcb3-4b4f-b55f-a583bee4530e",
   "metadata": {},
   "source": [
    "# palindrome"
   ]
  },
  {
   "cell_type": "code",
   "execution_count": null,
   "id": "82435938-52f5-4db4-8a1a-cd3370b36187",
   "metadata": {},
   "outputs": [],
   "source": [
    "list1=[1,2,3,4,3,2,1]\n",
    "list2=[1,2,3]\n",
    "copy_list1=list1.copy()\n",
    "copy_list1.reverse()\n",
    "if(copy_list1==list1):\n",
    " print(\"palindrome\")\n",
    "else:\n",
    "    print(\"not palindrome\")\n"
   ]
  },
  {
   "cell_type": "code",
   "execution_count": null,
   "id": "f22366fe-b05d-4220-9c2c-640bdcb3e8a7",
   "metadata": {},
   "outputs": [],
   "source": [
    "x = input(\"Enter your word\")\n",
    "x = x.lower()  # Convert to lowercase\n",
    "copy_x = x[::-1]  # Reverse the string using slicing\n",
    "\n",
    "if copy_x == x:\n",
    "    print(\"Palindrome\")\n",
    "else:\n",
    "    print(\"Not a palindrome\")"
   ]
  },
  {
   "cell_type": "code",
   "execution_count": null,
   "id": "0b81ce41-33fe-4842-9a58-fa78dfdb55d0",
   "metadata": {},
   "outputs": [],
   "source": [
    "x=input(\"enter your words\")\n",
    "x=x.lower()\n",
    "copy_x = x[::-1]\n",
    "if copy_x == x:\n",
    "    print(\"palindrome\")\n",
    "else:\n",
    "    print(\"not a palindrome\")"
   ]
  },
  {
   "cell_type": "markdown",
   "id": "fb9ffc1f-6993-43d4-a76d-a118aee23770",
   "metadata": {},
   "source": [
    "# string reverse"
   ]
  },
  {
   "cell_type": "code",
   "execution_count": null,
   "id": "1cbdd47e-da6e-4d65-8b7d-f84ff51a4f5f",
   "metadata": {},
   "outputs": [],
   "source": [
    "str=\"nishant\"\n",
    "print(str[::-1])"
   ]
  },
  {
   "cell_type": "code",
   "execution_count": null,
   "id": "e88be5c0-3169-43e8-bcd6-34696df07c82",
   "metadata": {},
   "outputs": [],
   "source": [
    "x = input(\"Enter your word: \")\n",
    "str_x = x[::-1]  # Reverse the string using slicing\n",
    "print(str_x)"
   ]
  },
  {
   "cell_type": "markdown",
   "id": "1cf68fdd-63f9-45ba-abe9-b931f3e0f9d1",
   "metadata": {},
   "source": [
    "# count"
   ]
  },
  {
   "cell_type": "code",
   "execution_count": null,
   "id": "09d85faa-2ca3-4118-b11c-3968b9fafdf4",
   "metadata": {},
   "outputs": [],
   "source": [
    "x = input(\"Enter your word: \")\n",
    "print(x.count(\"n\"))"
   ]
  },
  {
   "cell_type": "code",
   "execution_count": null,
   "id": "a941d77e-2de5-42f8-995f-1e005a59a0fe",
   "metadata": {},
   "outputs": [],
   "source": [
    "x= [2,3,3,4,45,6,7,3,2,3,4,9]\n",
    "print(x.count(3))"
   ]
  },
  {
   "cell_type": "code",
   "execution_count": null,
   "id": "26e83950-dc5e-4054-b4fe-71ef1aeb93ba",
   "metadata": {},
   "outputs": [],
   "source": [
    "x= [2,3,3,4,45,6,7,3,2,3,4,9]\n",
    "count_x=len(x)\n",
    "print(count_x)"
   ]
  },
  {
   "cell_type": "code",
   "execution_count": null,
   "id": "a7caeff4-c797-410c-9622-19e9175c137a",
   "metadata": {},
   "outputs": [],
   "source": [
    "x= [2,3,3,4,45,6,7,3,2,3,4,9]\n",
    "sum_x=sum(x)\n",
    "print(sum_x)"
   ]
  },
  {
   "cell_type": "markdown",
   "id": "c512b73a-ee1a-4f5c-a197-8c605334298d",
   "metadata": {},
   "source": [
    "# dictonary"
   ]
  },
  {
   "cell_type": "code",
   "execution_count": null,
   "id": "400581d1-da93-485f-9d9d-4232ceb1cdf9",
   "metadata": {},
   "outputs": [],
   "source": [
    "student = {\"name\":\"Nishant\",\"subjects\":{\"maths\",\"DBMS\",\"python\",\"data science\"}}\n",
    "print(student[\"subjects\"])"
   ]
  },
  {
   "cell_type": "code",
   "execution_count": null,
   "id": "afe2002d-2c43-422b-85cf-1281b55980e0",
   "metadata": {},
   "outputs": [],
   "source": [
    "student.keys()"
   ]
  },
  {
   "cell_type": "code",
   "execution_count": null,
   "id": "b01e3960-3b73-4879-b21c-60e56cc1f41f",
   "metadata": {},
   "outputs": [],
   "source": [
    "len(student.keys())"
   ]
  },
  {
   "cell_type": "code",
   "execution_count": null,
   "id": "d2c98299-e314-4bfe-ad33-fa72af775960",
   "metadata": {},
   "outputs": [],
   "source": [
    "collection={\"hello\",\"nj\",\"bhai\"}\n",
    "print(type(collection))"
   ]
  },
  {
   "cell_type": "code",
   "execution_count": null,
   "id": "fb62b66e-30c6-4f09-bd9f-730dc21b451e",
   "metadata": {},
   "outputs": [],
   "source": [
    "collection={\"hello\",\"nj\",\"bhai\"}\n",
    "collection.remove(\"bhai\")\n",
    "print(collection)"
   ]
  },
  {
   "cell_type": "code",
   "execution_count": null,
   "id": "7dec0afd-d58c-4946-b729-a4a675f18f45",
   "metadata": {},
   "outputs": [],
   "source": [
    "set1 = {1,2,3,4}\n",
    "set2 = {5,2,3,7}\n",
    "print(set1.union(set2))"
   ]
  },
  {
   "cell_type": "code",
   "execution_count": null,
   "id": "db70a512-32da-4363-803a-00f42289c028",
   "metadata": {},
   "outputs": [],
   "source": [
    "!pip install word2number\n"
   ]
  },
  {
   "cell_type": "code",
   "execution_count": null,
   "id": "619d6f33-3ffc-42aa-9a3f-6fcb73833fc6",
   "metadata": {},
   "outputs": [],
   "source": [
    "import  word2number as w2n"
   ]
  },
  {
   "cell_type": "code",
   "execution_count": null,
   "id": "87b9b0f6-c92f-4ad7-be1e-9f9fd410d6d8",
   "metadata": {},
   "outputs": [],
   "source": [
    "from word2number import w2n\n",
    "\n",
    "# Take input from the user\n",
    "n = input(\"Enter any number in words: \")\n",
    "\n",
    "# Convert the word to a number\n",
    "output = w2n.word_to_num(n)\n",
    "\n",
    "# Print the output\n",
    "print(output)"
   ]
  },
  {
   "cell_type": "markdown",
   "id": "b7cb54e4-3048-47c4-94e1-b5228653c3b2",
   "metadata": {},
   "source": [
    "# loops"
   ]
  },
  {
   "cell_type": "code",
   "execution_count": null,
   "id": "1bfbfaed-72bf-4ae8-be37-76d705d27318",
   "metadata": {},
   "outputs": [],
   "source": [
    "i =1\n",
    "while i <= 5 :\n",
    "    print(i)\n",
    "    i + = 1"
   ]
  },
  {
   "cell_type": "code",
   "execution_count": null,
   "id": "2a800d37-8da9-4800-a3e1-8839736579b8",
   "metadata": {},
   "outputs": [],
   "source": [
    "x = int(input(\"enter any number\"))\n",
    "sub = 0\n",
    "i = 1\n",
    "while i <= x:\n",
    "    sub -= i\n",
    "    i -= 1\n",
    "    print(\"sub of series\", sub)\n"
   ]
  },
  {
   "cell_type": "code",
   "execution_count": null,
   "id": "3e5626ae-6533-46c6-ac29-43be8d3216d5",
   "metadata": {},
   "outputs": [],
   "source": []
  }
 ],
 "metadata": {
  "kernelspec": {
   "display_name": "Python 3 (ipykernel)",
   "language": "python",
   "name": "python3"
  },
  "language_info": {
   "codemirror_mode": {
    "name": "ipython",
    "version": 3
   },
   "file_extension": ".py",
   "mimetype": "text/x-python",
   "name": "python",
   "nbconvert_exporter": "python",
   "pygments_lexer": "ipython3",
   "version": "3.13.3"
  }
 },
 "nbformat": 4,
 "nbformat_minor": 5
}
